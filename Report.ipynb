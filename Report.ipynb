{
  "nbformat": 4,
  "nbformat_minor": 0,
  "metadata": {
    "colab": {
      "name": "Report.ipynb",
      "version": "0.3.2",
      "provenance": [],
      "toc_visible": true
    },
    "language_info": {
      "codemirror_mode": {
        "name": "ipython",
        "version": 2
      },
      "file_extension": ".py",
      "mimetype": "text/x-python",
      "name": "python",
      "nbconvert_exporter": "python",
      "pygments_lexer": "ipython2",
      "version": "2.7.15+"
    },
    "kernelspec": {
      "display_name": "Python 3",
      "language": "python",
      "name": "python3"
    }
  },
  "cells": [
    {
      "cell_type": "markdown",
      "metadata": {
        "colab_type": "text",
        "id": "h6JeP97XvXKN"
      },
      "source": [
        "# Braille Text Translator"
      ]
    },
    {
      "cell_type": "markdown",
      "metadata": {
        "colab_type": "text",
        "id": "F6AN41-U9Cw2"
      },
      "source": [
        "## 1. Enhance original image"
      ]
    },
    {
      "cell_type": "markdown",
      "metadata": {
        "colab_type": "text",
        "id": "LJL7oxOC8DA0"
      },
      "source": [
        "### Import initial libraries"
      ]
    },
    {
      "cell_type": "code",
      "metadata": {
        "colab_type": "code",
        "id": "Lab08TrYujYy",
        "colab": {}
      },
      "source": [
        "import imageio\n",
        "import numpy as np\n",
        "import matplotlib.pyplot as plt\n",
        "import scipy\n",
        "from scipy import ndimage\n",
        "import sys\n",
        "import cv2\n",
        "from PIL import Image, ImageDraw, ImageFont"
      ],
      "execution_count": 0,
      "outputs": []
    },
    {
      "cell_type": "markdown",
      "metadata": {
        "colab_type": "text",
        "id": "L9FJqAtHvTro"
      },
      "source": [
        "### Utilitary functions used in the program"
      ]
    },
    {
      "cell_type": "code",
      "metadata": {
        "colab_type": "code",
        "id": "LuIIQsAvwlJj",
        "colab": {}
      },
      "source": [
        "# normalizes image pixels between 0 and 255\n",
        "def normalize(img):\n",
        "\timin = np.min(img)\n",
        "\timax = np.max(img)\n",
        "\n",
        "\treturn (((img - imin)/(imax - imin)) * 255).astype(np.float)\n",
        "\n",
        "# Prints image with minimum value equal to 0 and maximum to 255\n",
        "def printImage(img):\n",
        "\tplt.figure(figsize=(16,8)) \n",
        "\tplt.imshow(mat, cmap=\"gray\", vmin=0, vmax=255)\n",
        "  \n",
        "# Prints image with matplotlib defaults  \n",
        "def printImage2(img):\n",
        "\tplt.figure(figsize=(16,8)) \n",
        "\tplt.imshow(mat, cmap=\"gray\")\n",
        "\n",
        "# Median difference filter, highlights the shadow pixels\n",
        "def filter(I, n):\n",
        "\tm = n//2\n",
        "\tJ = np.empty(I.shape, dtype=np.float)\n",
        "\tN, M = I.shape\n",
        "\tI = np.pad(I, ((m, m), (m, m)), 'symmetric')\n",
        "\n",
        "\tfor i in range(N):\n",
        "\t\tfor j in range(M):\n",
        "\t\t\tsub = I[i+m:(i+m+n), j+m:(j+m+n)]\n",
        "\t\t\tmed = np.median(np.ravel(sub)) # gets median\n",
        "\t\t\tJ[i, j] = abs(I[i+m, j+m] - med) # applies the difference\n",
        "\treturn J\n",
        "\n",
        "# Applies mean filter to image I\n",
        "def MeanFilter(I, n):\n",
        "\tm = n//2\n",
        "\tJ = np.empty(I.shape, dtype=np.float) # the answer\n",
        "\tN, M = I.shape\n",
        "\tI = np.pad(I, ((m, m), (m, m)), 'symmetric')\n",
        "\tfor\ti in range(N):\n",
        "\t\tfor j in range(M):\n",
        "\t\t\t# copies the matrix to sub\n",
        "\t\t\tsub = I[i+m:(i+m+n), j+m:(j+m+n)]\n",
        "\t\t\tJ[i, j] = np.mean(np.ravel(sub)) # get mean of the linearized list\n",
        "\treturn J"
      ],
      "execution_count": 0,
      "outputs": []
    },
    {
      "cell_type": "markdown",
      "metadata": {
        "id": "JbWCxzHHjhCF",
        "colab_type": "text"
      },
      "source": [
        "### Enhancing image"
      ]
    },
    {
      "cell_type": "code",
      "metadata": {
        "id": "I_deDakMjhCG",
        "colab_type": "code",
        "colab": {
          "base_uri": "https://localhost:8080/",
          "height": 327
        },
        "outputId": "e238f327-658b-4afc-f13f-6b410b7469d4"
      },
      "source": [
        "filename = str(input()).rstrip() # filename of the input image\n",
        "image = imageio.imread(filename)\n",
        "matrix = np.array(image, copy=True, dtype=np.float)\n",
        "\n",
        "N, M, _ = matrix.shape\n",
        "\n",
        "sys.setrecursionlimit(10 * N * M)\n",
        "\n",
        "# Transform RGB to gray scale\n",
        "for i in range(N):\n",
        "\tfor j in range(M):\n",
        "\t\tmatrix[i, j, 0] = matrix[i, j, 0] * 0.2989 + matrix[i, j, 1] * 0.5870 + matrix[i, j, 2] * 0.1140\n",
        "    \n",
        "matrix = matrix[:, :, 0:1].squeeze()\n",
        "\n",
        "# Plot original image\n",
        "mat = matrix.astype(np.uint8)\n",
        "printImage(mat)\n",
        "\n",
        "matrix = normalize(matrix)\n",
        "dots_matrix = filter(matrix, 21) # Applies filter to normalized matrix\n",
        "dots_matrix = normalize(dots_matrix)\n",
        "\n",
        "# Smooth image using mean filter, to reduce noise\n",
        "dots_matrix = MeanFilter(dots_matrix, 3)"
      ],
      "execution_count": 3,
      "outputs": [
        {
          "output_type": "stream",
          "text": [
            "1.png\n"
          ],
          "name": "stdout"
        },
        {
          "output_type": "display_data",
          "data": {
            "image/png": "[encoded data removed]",
            "text/plain": [
              "<Figure size 1152x576 with 1 Axes>"
            ]
          },
          "metadata": {
            "tags": []
          }
        }
      ]
    },
    {
      "cell_type": "markdown",
      "metadata": {
        "colab_type": "text",
        "id": "s97ncnup9PQ-"
      },
      "source": [
        "## 2. Transform into binary matrix"
      ]
    },
    {
      "cell_type": "markdown",
      "metadata": {
        "id": "XZrax5l0jhCK",
        "colab_type": "text"
      },
      "source": [
        "### Thresholding image"
      ]
    },
    {
      "cell_type": "code",
      "metadata": {
        "id": "UkuQz7AwjhCL",
        "colab_type": "code",
        "colab": {}
      },
      "source": [
        "# Thresholding step, 30 is arbitrary value derived from testing with images, but independent of input image gray scale\n",
        "for i in range(N):\n",
        "\tfor j in range(M):\n",
        "\t\tdots_matrix[i, j] = 0 if dots_matrix[i, j] < 30 else 1"
      ],
      "execution_count": 0,
      "outputs": []
    },
    {
      "cell_type": "markdown",
      "metadata": {
        "id": "Z6jrti2qjhCQ",
        "colab_type": "text"
      },
      "source": [
        "Now we want to ignore some white regions, which must not be seen as braillee circles\n",
        "\n",
        "To do that, we can use image description of our pattern, and use the comparison result to decide to keep or ignore some region \n",
        "\n",
        "The parameters that must be considered to describe the circles are the colour description, its size in pixels, and its centrality in the image\n",
        "\n",
        "To describe our pattern, we can calculate the mean of the histograms, using centrality as a weight\n",
        "\n",
        "The size of the regions can be used to already discard some regions beforehand (this can be applied optionally) "
      ]
    },
    {
      "cell_type": "code",
      "metadata": {
        "colab_type": "code",
        "id": "PS93V6Li907x",
        "colab": {
          "base_uri": "https://localhost:8080/",
          "height": 603
        },
        "outputId": "3196cae8-6f8e-4465-d6b2-4327ad9c38ea"
      },
      "source": [
        "# Erode the regions to calculate circles\n",
        "dots_matrix = ndimage.binary_erosion(dots_matrix)\n",
        "\n",
        "# Plot segmented image\n",
        "mat = dots_matrix.astype(np.uint8)\n",
        "printImage2(mat)\n",
        "\n",
        "def pointsInComponent(i, j, pts):\n",
        "\tvis[i, j] = 1\n",
        "\tpts.append((i, j))\n",
        "\tif i + 1 < N and vis[i+1, j] == 0 and dots_matrix[i+1, j] == 1: pointsInComponent(i+1, j, pts)\n",
        "\tif i - 1 >=0 and vis[i-1, j] == 0 and dots_matrix[i-1, j] == 1: pointsInComponent(i-1, j, pts)\n",
        "\tif j + 1 < M and vis[i, j+1] == 0 and dots_matrix[i, j+1] == 1: pointsInComponent(i, j+1, pts)\n",
        "\tif j - 1 >=0 and vis[i, j-1] == 0 and dots_matrix[i, j-1] == 1: pointsInComponent(i, j-1, pts)\n",
        "\n",
        "vis = np.zeros((N, M))\n",
        "\n",
        "# Retrieve components (white regions) and its pixels\n",
        "comp = []\n",
        "for i in range(N):\n",
        "\tfor j in range(M):\n",
        "\t\tif vis[i, j] == 0 and dots_matrix[i, j] == 1:\n",
        "\t\t\tcomp.append([])\n",
        "\t\t\tpointsInComponent(i, j, comp[-1])\n",
        "\n",
        "# Calculate histograms of each region using list comprehension\n",
        "histograms = [\n",
        "\tnp.histogram(np.array([matrix[x] for x in pts]), bins=256, range=(0, 255))[0] \n",
        "\tfor pts in comp\n",
        "]\n",
        "\n",
        "sz = np.median([len(x) for x in comp])\n",
        "# histogram description of braille circle, it is calculated as weighted mean of the histograms of white regions, in which the weight is it's centrality\n",
        "desc = []\n",
        "for c in range(256):\n",
        "\tdesc.append(0)\n",
        "\tsum = 0 # sums of weights\n",
        "\tfor i in range(len(comp)):\n",
        "\t\tif abs(len(comp[i]) - sz) > sz: continue \n",
        "\t\tp, q = comp[i][0]\n",
        "\t\tw = np.min([(p+1), (N - p+1), (q+1), (M - q + 1)]) # weight of the region, its centrality\n",
        "\t\tw = w/(len(comp))\n",
        "\t\tsum += w\n",
        "\t\tdesc[c] += w * histograms[i][c]\n",
        "\tdesc[c] /= sum\n",
        "\n",
        "# Flood fill algorithm to paint unwanted white regions\n",
        "def paintBlack(i, j):\n",
        "\tdots_matrix[i, j] = 0\n",
        "\tif i + 1 < N and dots_matrix[i+1, j] == 1: paintBlack(i+1, j)\n",
        "\tif i - 1 >=0 and dots_matrix[i-1, j] == 1: paintBlack(i-1, j)\n",
        "\tif j + 1 < M and dots_matrix[i, j+1] == 1: paintBlack(i, j+1)\n",
        "\tif j - 1 >=0 and dots_matrix[i, j-1] == 1: paintBlack(i, j-1)\n",
        "\n",
        "# CV histogram correlation function\n",
        "def compare(a, b):\n",
        "\treturn cv2.compareHist(np.array(a).astype('float32'), np.array(b).astype('float32'), cv2.HISTCMP_CORREL)\n",
        "\n",
        "# Euclidean distance comparison function\n",
        "def euclideanDistance(a, b):\n",
        "\treturn (np.sum((np.array(a) - np.array(b))**2)/256)**(1/2)\n",
        "\n",
        "errors = []\n",
        "for i in range(len(histograms)):\n",
        "\terrors.append(compare(desc, histograms[i]))\n",
        "\tif compare(desc, histograms[i]) < 0 or euclideanDistance(desc, histograms[i]) > 1: #if correlation between the two histograms is less than 0.05, paint it black\n",
        "\t\tprint(euclideanDistance(desc, histograms[i]), end=' ')\n",
        "\t\tprint(compare(desc, histograms[i]))\t\n",
        "\t\tpaintBlack(comp[i][0][0], comp[i][0][1])\n",
        "\n",
        "# Plot segmented image\n",
        "mat = dots_matrix.astype(np.uint8)\n",
        "printImage2(mat)\n",
        "\n",
        "plt.show()"
      ],
      "execution_count": 5,
      "outputs": [
        {
          "output_type": "display_data",
          "data": {
            "image/png": "[encoded data removed]",
            "text/plain": [
              "<Figure size 1152x576 with 1 Axes>"
            ]
          },
          "metadata": {
            "tags": []
          }
        },
        {
          "output_type": "display_data",
          "data": {
            "image/png": "[encoded data removed]",
            "text/plain": [
              "<Figure size 1152x576 with 1 Axes>"
            ]
          },
          "metadata": {
            "tags": []
          }
        }
      ]
    },
    {
      "cell_type": "markdown",
      "metadata": {
        "colab_type": "text",
        "id": "1AKp2RBm9dKh"
      },
      "source": [
        "## 3. Determine diameter D of a braille circle"
      ]
    },
    {
      "cell_type": "code",
      "metadata": {
        "colab_type": "code",
        "id": "p7tn26Yk91Uq",
        "colab": {
          "base_uri": "https://localhost:8080/",
          "height": 34
        },
        "outputId": "481c0852-8257-43d8-b160-0292c848258a"
      },
      "source": [
        "# This part will calculate the average radius\n",
        "radius = 0.0 \n",
        "for i in range(len(comp)):\n",
        "\tlo = N\n",
        "\tfor pt in comp[i]: lo = min(lo, pt[0])\n",
        "\thi = 0\n",
        "\tfor pt in comp[i]: hi = max(hi, pt[0])\n",
        "\n",
        "\tv = hi - lo + 1\n",
        "\tlo = M\n",
        "\tfor pt in comp[i]: lo = min(lo, pt[1])\n",
        "\thi = 0\n",
        "\tfor pt in comp[i]: hi = max(hi, pt[1])\n",
        "\n",
        "\tv = max(v, hi - lo + 1)\n",
        "\tradius += v\n",
        "\n",
        "radius /= len(comp)\n",
        "print(radius)"
      ],
      "execution_count": 6,
      "outputs": [
        {
          "output_type": "stream",
          "text": [
            "3.0873015873015874\n"
          ],
          "name": "stdout"
        }
      ]
    },
    {
      "cell_type": "markdown",
      "metadata": {
        "colab_type": "text",
        "id": "wtVYdPt69eDv"
      },
      "source": [
        "## 4. Segment image into blocks"
      ]
    },
    {
      "cell_type": "code",
      "metadata": {
        "colab_type": "code",
        "id": "rRkr6V92919O",
        "colab": {}
      },
      "source": [
        ""
      ],
      "execution_count": 0,
      "outputs": []
    },
    {
      "cell_type": "markdown",
      "metadata": {
        "colab_type": "text",
        "id": "bgrFj6UH9kLx"
      },
      "source": [
        "## 5. For each block, determine which letter it represents\n"
      ]
    },
    {
      "cell_type": "markdown",
      "metadata": {
        "id": "V8e0MsjonjZ_",
        "colab_type": "text"
      },
      "source": [
        "###Training model to classify letters"
      ]
    },
    {
      "cell_type": "code",
      "metadata": {
        "id": "dYGcP_NetvQU",
        "colab_type": "code",
        "colab": {}
      },
      "source": [
        "import zipfile as zf\n",
        "\n",
        "zf.ZipFile('train.zip').extractall()"
      ],
      "execution_count": 0,
      "outputs": []
    },
    {
      "cell_type": "code",
      "metadata": {
        "id": "o_vJvAyWwzCA",
        "colab_type": "code",
        "colab": {}
      },
      "source": [
        "from imageio import imread\n",
        "\n",
        "# Reading train images\n",
        "images = []\n",
        "for i in range(1, 27):\n",
        "  images.append(imread(\"train/\" + str(i) + \".png\")[:,:,0])"
      ],
      "execution_count": 0,
      "outputs": []
    },
    {
      "cell_type": "code",
      "metadata": {
        "id": "EZ6MAsBG121k",
        "colab_type": "code",
        "colab": {}
      },
      "source": [
        "import random\n",
        "from scipy.ndimage import shift\n",
        "\n",
        "def gen_data(base_image, quantity, label, data, target, radius=3):\n",
        "  for i in range(quantity):\n",
        "    data.append(shift(base_image, [random.randint(-1*radius,1*radius), random.randint(-1*radius,1*radius)]))\n",
        "    target.append(label)"
      ],
      "execution_count": 0,
      "outputs": []
    },
    {
      "cell_type": "code",
      "metadata": {
        "id": "U-ds_v6X2X10",
        "colab_type": "code",
        "colab": {}
      },
      "source": [
        "import numpy as np\n",
        "from skimage.feature import hog\n",
        "from skimage.util import random_noise, invert\n",
        "\n",
        "X = []\n",
        "Y = []\n",
        "\n",
        "for i in range(26):\n",
        "  gen_data(invert(images[i]), 20 , i+1, X, Y)\n",
        "\n",
        "x = []\n",
        "\n",
        "for i in X:\n",
        "  x.append(hog(i, block_norm='L2-Hys',  pixels_per_cell=(2,2), visualize=False))\n",
        "  #x.append(i.reshape((60*40)))\n",
        "\n",
        "x = np.asarray(x)\n",
        "y = np.asarray(Y)"
      ],
      "execution_count": 0,
      "outputs": []
    },
    {
      "cell_type": "code",
      "metadata": {
        "id": "T31FabIn5bMY",
        "colab_type": "code",
        "outputId": "4da1d271-e424-4a0c-f592-1d5f948cf982",
        "colab": {
          "base_uri": "https://localhost:8080/",
          "height": 34
        }
      },
      "source": [
        "from sklearn.model_selection import train_test_split\n",
        "from sklearn.neural_network import MLPClassifier\n",
        "from sklearn.metrics import accuracy_score\n",
        "\n",
        "x_train, x_test, y_train, y_test = train_test_split(x, y, test_size=0.25)\n",
        "\n",
        "clf = MLPClassifier(hidden_layer_sizes=(50,50), max_iter=500, tol=1e-3)\n",
        "clf.fit(x_train, y_train)\n",
        "y_pred = clf.predict(x_test)\n",
        "\n",
        "\"Acuracia media:\", accuracy_score(y_test, y_pred)"
      ],
      "execution_count": 13,
      "outputs": [
        {
          "output_type": "execute_result",
          "data": {
            "text/plain": [
              "('Acuracia media:', 0.7230769230769231)"
            ]
          },
          "metadata": {
            "tags": []
          },
          "execution_count": 13
        }
      ]
    },
    {
      "cell_type": "markdown",
      "metadata": {
        "colab_type": "text",
        "id": "TOXhucp-9l9x"
      },
      "source": [
        "## 6. Insert corresponding letter on top of the block it represents"
      ]
    },
    {
      "cell_type": "code",
      "metadata": {
        "colab_type": "code",
        "id": "xP06gdqR929B",
        "colab": {}
      },
      "source": [
        "## Draws the letters on top of the boxes\n",
        "positions = [(12, 15, 'a'), (80, 100, 'b')]\n",
        "\n",
        "img = Image.open(filename).convert('RGBA')\n",
        "d = ImageDraw.Draw(img)\n",
        "fnt = ImageFont.truetype('arial.ttf', 40)\n",
        "for x, y, c in positions:\n",
        "\td.text((x, y), \"\" + c, font=fnt, fill=(0, 0, 255, 255))\n",
        "img.show()"
      ],
      "execution_count": 0,
      "outputs": []
    }
  ]
}